{
  "nbformat": 4,
  "nbformat_minor": 0,
  "metadata": {
    "colab": {
      "provenance": []
    },
    "kernelspec": {
      "name": "python3",
      "display_name": "Python 3"
    },
    "language_info": {
      "name": "python"
    }
  },
  "cells": [
    {
      "cell_type": "code",
      "execution_count": 1,
      "metadata": {
        "colab": {
          "base_uri": "https://localhost:8080/"
        },
        "id": "gc7OY-u16lQP",
        "outputId": "f821db3b-36fd-43bb-9ae6-eec3b0493443"
      },
      "outputs": [
        {
          "output_type": "stream",
          "name": "stderr",
          "text": [
            "IOPub data rate exceeded.\n",
            "The notebook server will temporarily stop sending output\n",
            "to the client in order to avoid crashing it.\n",
            "To change this limit, set the config variable\n",
            "`--NotebookApp.iopub_data_rate_limit`.\n",
            "\n",
            "Current values:\n",
            "NotebookApp.iopub_data_rate_limit=1000000.0 (bytes/sec)\n",
            "NotebookApp.rate_limit_window=3.0 (secs)\n",
            "\n"
          ]
        }
      ],
      "source": [
        "# TASK 2\n",
        "\n",
        "import numpy as np\n",
        "import time\n",
        "\n",
        "# Measure how long the creation takes\n",
        "start = time.time()\n",
        "array = np.random.rand(1000, 1000)\n",
        "print(array)\n",
        "creation_time = time.time() - start\n",
        "print(\"Array creation time :\", creation_time, \"seconds\")\n",
        "\n",
        "# Convert the array into bytes\n",
        "start = time.time()\n",
        "array_bytes = array.tobytes()\n",
        "print(array_bytes)\n",
        "\n",
        "# Recreate the array from the bytes\n",
        "start_time = time.time()\n",
        "recreated_array = np.frombuffer(array_bytes, dtype=array.dtype).reshape(array.shape)\n",
        "print(recreated_array)\n"
      ]
    }
  ]
}